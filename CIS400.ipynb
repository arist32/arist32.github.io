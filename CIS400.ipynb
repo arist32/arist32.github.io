{
 "cells": [
  {
   "cell_type": "markdown",
   "metadata": {},
   "source": [
    "# CIS400 Data Mining Assignment 2\n",
    "## a small social network based on the Twitter API and networkx package\n",
    "## I'm currently working with three students for our final team project."
   ]
  },
  {
   "cell_type": "markdown",
   "metadata": {},
   "source": [
    "## Login"
   ]
  },
  {
   "cell_type": "code",
   "execution_count": 7,
   "metadata": {},
   "outputs": [
    {
     "name": "stdout",
     "output_type": "stream",
     "text": [
      "<twitter.api.Twitter object at 0x7fe03b7b5760>\n"
     ]
    }
   ],
   "source": [
    "import twitter\n",
    "import json\n",
    "\n",
    "CONSUMER_KEY = '' #API key\n",
    "CONSUMER_SECRET = '' #API secret key\n",
    "OAUTH_TOKEN = '' #Access Token Open authorization\n",
    "OAUTH_TOKEN_SECRET = '' #Access Token secret\n",
    "\n",
    "auth = twitter.oauth.OAuth(OAUTH_TOKEN, OAUTH_TOKEN_SECRET,\n",
    "                           CONSUMER_KEY, CONSUMER_SECRET) #Constructor using these four info\n",
    "\n",
    "twitter_api = twitter.Twitter(auth=auth)\n",
    "\n",
    "print(twitter_api)"
   ]
  },
  {
   "cell_type": "markdown",
   "metadata": {},
   "source": [
    "## Find Users"
   ]
  },
  {
   "cell_type": "code",
   "execution_count": 8,
   "metadata": {},
   "outputs": [
    {
     "name": "stdout",
     "output_type": "stream",
     "text": [
      "Edmund.D.Yu EdmuntYu 933222609432363008\n",
      "Edmund Yu Deliezo e_edmund 594277651\n",
      "Edmund Tay Yu Xiang etyxetyx 970573350\n",
      "Edmund Lee EdmundChunYuLee 1034325950391934976\n",
      "edmund yu tan djedmund92 51919173\n",
      "Edmund.D.Yu EdmundDYu1 1212210342123585536\n",
      "edmund yu edmundyangyang 847040585911287808\n",
      "Edmund Yu Edmund_YS 882186321791377409\n",
      "Edmund Yu edmundyu1001 165035772\n",
      "EdmundYu EdmundYu1 4329400583\n",
      "Edmund Yu SF_Ed 1000291795\n",
      "Edmund Yu 5ayknivesfa 312016573\n",
      "Edmund Yu aznxedxboy8181 738601804896735232\n",
      "Edmund Yu EdmundYu3 1031585357085716480\n",
      "Edmund Yu EdmundYu4 1326736985906581505\n",
      "Edmund Yu ed_mnnd 28505763\n",
      "Benedict.Yu EdmundYu0 984271488399196160\n",
      "Charles Yu YuEdmund 1809829050\n",
      "Edmund Yu EdmundYu 479905469\n",
      "Edmund Yu RazielXIII 275977722\n"
     ]
    }
   ],
   "source": [
    "response = twitter_api.users.search(q = 'edmund yu') \n",
    "#print(json.dumps(response, sort_keys = True, indent =/ 4))\n",
    "for i in response:\n",
    "    try:\n",
    "        print(i['name'], i['screen_name'], i['id'])\n",
    "    except:\n",
    "        pass\n",
    "user_name = \"Edmund Yu\"\n",
    "user_screen_name = \"edmundyu1001\" #\"my professor's name\"\n",
    "user_id = 165035772\n",
    "#Edmund Yu edmundyu1001 165035772"
   ]
  },
  {
   "cell_type": "markdown",
   "metadata": {},
   "source": [
    "## Functions (From course materials)"
   ]
  },
  {
   "cell_type": "code",
   "execution_count": 9,
   "metadata": {},
   "outputs": [],
   "source": [
    "import sys\n",
    "import time\n",
    "from urllib.error import URLError\n",
    "from http.client import BadStatusLine\n",
    "import json\n",
    "import twitter\n",
    "from functools import partial\n",
    "from sys import maxsize as maxint\n",
    "\n",
    "def get_friends_followers_ids(twitter_api, screen_name=None, user_id=None,  \n",
    "                              friends_limit=maxint, followers_limit=maxint):\n",
    "    \n",
    "    # Must have either screen_name or user_id (logical xor)\n",
    "    assert (screen_name != None) != (user_id != None), \\\n",
    "    \"Must have screen_name or user_id, but not both\"\n",
    "    \n",
    "    # See http://bit.ly/2GcjKJP and http://bit.ly/2rFz90N for details\n",
    "    # on API parameters\n",
    "    \n",
    "    get_friends_ids = partial(make_twitter_request, twitter_api.friends.ids, \n",
    "                              count=5000)\n",
    "    get_followers_ids = partial(make_twitter_request, twitter_api.followers.ids, \n",
    "                                count=5000)\n",
    "\n",
    "    friends_ids, followers_ids = [], []\n",
    "    \n",
    "    for twitter_api_func, limit, ids, label in [\n",
    "                    [get_friends_ids, friends_limit, friends_ids, \"friends\"], \n",
    "                    [get_followers_ids, followers_limit, followers_ids, \"followers\"]\n",
    "                ]:\n",
    "        \n",
    "        if limit == 0: continue\n",
    "        \n",
    "        cursor = -1\n",
    "        while cursor != 0:\n",
    "        \n",
    "            # Use make_twitter_request via the partially bound callable...\n",
    "            if screen_name: \n",
    "                response = twitter_api_func(screen_name=screen_name, cursor=cursor)\n",
    "            else: # user_id\n",
    "                response = twitter_api_func(user_id=user_id, cursor=cursor)\n",
    "\n",
    "            if response is not None:\n",
    "                ids += response['ids']\n",
    "                cursor = response['next_cursor']\n",
    "        \n",
    "            print('Fetched {0} total {1} ids for {2}'.format(len(ids),\\\n",
    "                  label, (user_id or screen_name)),file=sys.stderr)\n",
    "        \n",
    "            # XXX: You may want to store data during each iteration to provide an \n",
    "            # an additional layer of protection from exceptional circumstances\n",
    "        \n",
    "            if len(ids) >= limit or response is None:\n",
    "                break\n",
    "\n",
    "    # Do something useful with the IDs, like store them to disk...\n",
    "    return friends_ids[:friends_limit], followers_ids[:followers_limit]\n",
    "\n",
    "def make_twitter_request(twitter_api_func, max_errors=10, *args, **kw): \n",
    "\n",
    "    def handle_twitter_http_error(e, wait_period=2, sleep_when_rate_limited=True):\n",
    "    \n",
    "        if wait_period > 3600: # Seconds\n",
    "            print('Too many retries. Quitting.', file=sys.stderr)\n",
    "            raise e\n",
    "    \n",
    "        # See https://developer.twitter.com/en/docs/basics/response-codes\n",
    "        # for common codes\n",
    "    \n",
    "        if e.e.code == 401:\n",
    "            print('Encountered 401 Error (Not Authorized)', file=sys.stderr)\n",
    "            return None\n",
    "        elif e.e.code == 404:\n",
    "            print('Encountered 404 Error (Not Found)', file=sys.stderr)\n",
    "            return None\n",
    "        elif e.e.code == 429: \n",
    "            print('Encountered 429 Error (Rate Limit Exceeded)', file=sys.stderr)\n",
    "            if sleep_when_rate_limited:\n",
    "                print(\"Retrying in 15 minutes...ZzZ...\", file=sys.stderr)\n",
    "                sys.stderr.flush()\n",
    "                time.sleep(60*15 + 5)\n",
    "                print('...ZzZ...Awake now and trying again.', file=sys.stderr)\n",
    "                return 2\n",
    "            else:\n",
    "                raise e # Caller must handle the rate limiting issue\n",
    "        elif e.e.code in (500, 502, 503, 504):\n",
    "            print('Encountered {0} Error. Retrying in {1} seconds'\\\n",
    "                  .format(e.e.code, wait_period), file=sys.stderr)\n",
    "            time.sleep(wait_period)\n",
    "            wait_period *= 1.5\n",
    "            return wait_period\n",
    "        else:\n",
    "            raise e\n",
    "\n",
    "    # End of nested helper function\n",
    "    \n",
    "    wait_period = 2 \n",
    "    error_count = 0 \n",
    "\n",
    "    while True:\n",
    "        try:\n",
    "            return twitter_api_func(*args, **kw)\n",
    "        except twitter.api.TwitterHTTPError as e:\n",
    "            error_count = 0 \n",
    "            wait_period = handle_twitter_http_error(e, wait_period)\n",
    "            if wait_period is None:\n",
    "                return\n",
    "        except URLError as e:\n",
    "            error_count += 1\n",
    "            time.sleep(wait_period)\n",
    "            wait_period *= 1.5\n",
    "            print(\"URLError encountered. Continuing.\", file=sys.stderr)\n",
    "            if error_count > max_errors:\n",
    "                print(\"Too many consecutive errors...bailing out.\", file=sys.stderr)\n",
    "                raise\n",
    "        except BadStatusLine as e:\n",
    "            error_count += 1\n",
    "            time.sleep(wait_period)\n",
    "            wait_period *= 1.5\n",
    "            print(\"BadStatusLine encountered. Continuing.\", file=sys.stderr)\n",
    "            if error_count > max_errors:\n",
    "                print(\"Too many consecutive errors...bailing out.\", file=sys.stderr)\n",
    "                raise\n",
    "                \n",
    "def get_user_profile(twitter_api, screen_names=None, user_ids=None): \n",
    "   \n",
    "    # Must have either screen_name or user_id (logical xor)\n",
    "    assert (screen_names != None) != (user_ids != None), \\\n",
    "    \"Must have screen_names or user_ids, but not both\"\n",
    "    \n",
    "    items_to_info = {}\n",
    "\n",
    "    items = screen_names or user_ids\n",
    "    \n",
    "    while len(items) > 0:\n",
    "\n",
    "        # Process 100 items at a time per the API specifications for /users/lookup.\n",
    "        # See http://bit.ly/2Gcjfzr for details.\n",
    "        \n",
    "        items_str = ','.join([str(item) for item in items[:100]])\n",
    "        items = items[100:]\n",
    "\n",
    "        if screen_names:\n",
    "            response = make_twitter_request(twitter_api.users.lookup, \n",
    "                                            screen_name=items_str)\n",
    "        else: # user_ids\n",
    "            response = make_twitter_request(twitter_api.users.lookup, \n",
    "                                            user_id=items_str)\n",
    "    \n",
    "        for user_info in response:\n",
    "            if screen_names:\n",
    "                items_to_info[user_info['screen_name']] = user_info\n",
    "            else: # user_ids\n",
    "                items_to_info[user_info['id']] = user_info\n",
    "\n",
    "    return items_to_info\n",
    "\n",
    "def get_reciprocal_friends(twitter_api, user_id = None):  # find reciprocal friends\n",
    "    friends_ids, followers_ids = get_friends_followers_ids(twitter_api, \n",
    "                                                       user_id=user_id, \n",
    "                                                       friends_limit=5000,   \n",
    "                                                       followers_limit=5000)\n",
    "    reciprocal_friends_ids = list(set(friends_ids) & set(followers_ids))\n",
    "    return reciprocal_friends_ids\n",
    "\n",
    "def popular_reciprocal_friends(twitter_api, user_id = None, count = 5): # filter top 5 popular reciprocal friends\n",
    "    reciprocal_friends_ids = get_reciprocal_friends(twitter_api, user_id)\n",
    "    if len(reciprocal_friends_ids) < count: # shortcuts for reciprocal friends < 5\n",
    "        return reciprocal_friends_ids\n",
    "    else:\n",
    "        response = get_user_profile(twitter_api, user_ids = reciprocal_friends_ids)\n",
    "        reciprocal_friends_dict = {id:response[id]['followers_count'] for id in response.keys()}\n",
    "        sorted_reciprocal_friends =  sorted(reciprocal_friends_dict, key = reciprocal_friends_dict.get, reverse = True)\n",
    "    return sorted_reciprocal_friends[:count]"
   ]
  },
  {
   "cell_type": "code",
   "execution_count": 10,
   "metadata": {},
   "outputs": [
    {
     "name": "stderr",
     "output_type": "stream",
     "text": [
      "Fetched 133 total friends ids for 165035772\n",
      "Fetched 99 total followers ids for 165035772\n"
     ]
    },
    {
     "name": "stdout",
     "output_type": "stream",
     "text": [
      "Got Followers for edmundyu1001:[17881816, 1933042237, 14645160, 76966092, 5514192]\n"
     ]
    },
    {
     "name": "stderr",
     "output_type": "stream",
     "text": [
      "Fetched 5000 total friends ids for 17881816\n",
      "Fetched 5000 total followers ids for 17881816\n"
     ]
    },
    {
     "name": "stdout",
     "output_type": "stream",
     "text": [
      "Got followers for 17881816:[606412878, 32338228, 3403573407, 23139997, 199565541]\n",
      "[606412878, 32338228, 3403573407, 23139997, 199565541]\n",
      "7\n",
      "8\n",
      "9\n",
      "10\n",
      "11\n"
     ]
    },
    {
     "name": "stderr",
     "output_type": "stream",
     "text": [
      "Fetched 5000 total friends ids for 1933042237\n",
      "Fetched 5000 total followers ids for 1933042237\n"
     ]
    },
    {
     "name": "stdout",
     "output_type": "stream",
     "text": [
      "Got followers for 1933042237:[102171978, 897506675418165248, 20819690, 553172586, 1009459519846473728]\n",
      "[102171978, 897506675418165248, 20819690, 553172586, 1009459519846473728]\n",
      "12\n",
      "13\n",
      "14\n",
      "15\n",
      "16\n"
     ]
    },
    {
     "name": "stderr",
     "output_type": "stream",
     "text": [
      "Fetched 5000 total friends ids for 14645160\n",
      "Fetched 5000 total followers ids for 14645160\n"
     ]
    },
    {
     "name": "stdout",
     "output_type": "stream",
     "text": [
      "Got followers for 14645160:[42345999, 16344329, 214337395, 18512945, 21687766]\n",
      "[42345999, 16344329, 214337395, 18512945, 21687766]\n",
      "17\n",
      "18\n",
      "19\n",
      "20\n",
      "21\n"
     ]
    },
    {
     "name": "stderr",
     "output_type": "stream",
     "text": [
      "Fetched 5000 total friends ids for 76966092\n",
      "Fetched 5000 total followers ids for 76966092\n"
     ]
    },
    {
     "name": "stdout",
     "output_type": "stream",
     "text": [
      "Got followers for 76966092:[159869411, 836531888, 1256377525, 1617549211, 2837608628]\n",
      "[159869411, 836531888, 1256377525, 1617549211, 2837608628]\n",
      "22\n",
      "23\n",
      "24\n",
      "25\n",
      "26\n"
     ]
    },
    {
     "name": "stderr",
     "output_type": "stream",
     "text": [
      "Fetched 5000 total friends ids for 5514192\n",
      "Fetched 5000 total followers ids for 5514192\n"
     ]
    },
    {
     "name": "stdout",
     "output_type": "stream",
     "text": [
      "Got followers for 5514192:[26637348, 422377883, 1256377525, 142512127, 2250233750]\n",
      "[26637348, 422377883, 1256377525, 142512127, 2250233750]\n",
      "27\n",
      "28\n",
      "29\n",
      "30\n"
     ]
    },
    {
     "name": "stderr",
     "output_type": "stream",
     "text": [
      "Fetched 5000 total friends ids for 606412878\n",
      "Fetched 5000 total followers ids for 606412878\n"
     ]
    },
    {
     "name": "stdout",
     "output_type": "stream",
     "text": [
      "Got followers for 606412878:[419107960, 89014429, 3840, 2730745332, 57893062]\n",
      "[419107960, 89014429, 3840, 2730745332, 57893062]\n",
      "31\n",
      "32\n",
      "33\n",
      "34\n",
      "35\n"
     ]
    },
    {
     "name": "stderr",
     "output_type": "stream",
     "text": [
      "Fetched 5000 total friends ids for 32338228\n",
      "Fetched 5000 total followers ids for 32338228\n"
     ]
    },
    {
     "name": "stdout",
     "output_type": "stream",
     "text": [
      "Got followers for 32338228:[17881816, 57982473, 96082963, 66306024, 18500852]\n",
      "[17881816, 57982473, 96082963, 66306024, 18500852]\n",
      "36\n",
      "37\n",
      "38\n",
      "39\n"
     ]
    },
    {
     "name": "stderr",
     "output_type": "stream",
     "text": [
      "Fetched 121 total friends ids for 3403573407\n",
      "Fetched 5000 total followers ids for 3403573407\n"
     ]
    },
    {
     "name": "stdout",
     "output_type": "stream",
     "text": [
      "Got followers for 3403573407:[24929621, 141664648, 17881816, 14645160, 21360280]\n",
      "[24929621, 141664648, 17881816, 14645160, 21360280]\n",
      "40\n",
      "41\n",
      "42\n"
     ]
    },
    {
     "name": "stderr",
     "output_type": "stream",
     "text": [
      "Fetched 3127 total friends ids for 23139997\n",
      "Fetched 4517 total followers ids for 23139997\n"
     ]
    },
    {
     "name": "stdout",
     "output_type": "stream",
     "text": [
      "Got followers for 23139997:[17881816, 171337448, 872695783, 19569136, 22018221]\n",
      "[17881816, 171337448, 872695783, 19569136, 22018221]\n",
      "43\n",
      "44\n",
      "45\n",
      "46\n"
     ]
    },
    {
     "name": "stderr",
     "output_type": "stream",
     "text": [
      "Fetched 1191 total friends ids for 199565541\n",
      "Fetched 3699 total followers ids for 199565541\n"
     ]
    },
    {
     "name": "stdout",
     "output_type": "stream",
     "text": [
      "Got followers for 199565541:[17881816, 200932969, 54649261, 149103331, 153492935]\n",
      "[17881816, 200932969, 54649261, 149103331, 153492935]\n",
      "47\n",
      "48\n",
      "49\n",
      "50\n"
     ]
    },
    {
     "name": "stderr",
     "output_type": "stream",
     "text": [
      "Fetched 1337 total friends ids for 102171978\n",
      "Fetched 4757 total followers ids for 102171978\n"
     ]
    },
    {
     "name": "stdout",
     "output_type": "stream",
     "text": [
      "Got followers for 102171978:[17093617, 15808765, 63796828, 17525171, 87403396]\n",
      "[17093617, 15808765, 63796828, 17525171, 87403396]\n",
      "51\n",
      "52\n",
      "53\n",
      "54\n",
      "55\n"
     ]
    },
    {
     "name": "stderr",
     "output_type": "stream",
     "text": [
      "Fetched 1588 total friends ids for 897506675418165248\n",
      "Fetched 4249 total followers ids for 897506675418165248\n"
     ]
    },
    {
     "name": "stdout",
     "output_type": "stream",
     "text": [
      "Got followers for 897506675418165248:[1933042237, 20756169, 20882981, 1854401, 65563900]\n",
      "[1933042237, 20756169, 20882981, 1854401, 65563900]\n",
      "56\n",
      "57\n",
      "58\n",
      "59\n"
     ]
    },
    {
     "name": "stderr",
     "output_type": "stream",
     "text": [
      "Fetched 1954 total friends ids for 20819690\n",
      "Fetched 3142 total followers ids for 20819690\n"
     ]
    },
    {
     "name": "stdout",
     "output_type": "stream",
     "text": [
      "Got followers for 20819690:[17093617, 37599351, 17525171, 17881816, 1933042237]\n",
      "[17093617, 37599351, 17525171, 17881816, 1933042237]\n",
      "60\n"
     ]
    },
    {
     "name": "stderr",
     "output_type": "stream",
     "text": [
      "Fetched 942 total friends ids for 553172586\n",
      "Fetched 737 total followers ids for 553172586\n",
      "Encountered 429 Error (Rate Limit Exceeded)\n",
      "Retrying in 15 minutes...ZzZ...\n"
     ]
    },
    {
     "name": "stdout",
     "output_type": "stream",
     "text": [
      "Got followers for 553172586:[1933042237, 14645160, 42070873, 82329216, 1689338184]\n",
      "[1933042237, 14645160, 42070873, 82329216, 1689338184]\n",
      "61\n",
      "62\n",
      "63\n"
     ]
    },
    {
     "name": "stderr",
     "output_type": "stream",
     "text": [
      "...ZzZ...Awake now and trying again.\n",
      "Fetched 745 total friends ids for 1009459519846473728\n",
      "Fetched 706 total followers ids for 1009459519846473728\n"
     ]
    },
    {
     "name": "stdout",
     "output_type": "stream",
     "text": [
      "Got followers for 1009459519846473728:[1933042237, 14645160, 75051887, 892275857779118080, 16529873]\n",
      "[1933042237, 14645160, 75051887, 892275857779118080, 16529873]\n",
      "64\n",
      "65\n",
      "66\n"
     ]
    },
    {
     "name": "stderr",
     "output_type": "stream",
     "text": [
      "Fetched 2348 total friends ids for 42345999\n",
      "Fetched 5000 total followers ids for 42345999\n"
     ]
    },
    {
     "name": "stdout",
     "output_type": "stream",
     "text": [
      "Got followers for 42345999:[168778996, 14645160, 153252061, 15433452, 20641934]\n",
      "[168778996, 14645160, 153252061, 15433452, 20641934]\n",
      "67\n",
      "68\n",
      "69\n",
      "70\n"
     ]
    },
    {
     "name": "stderr",
     "output_type": "stream",
     "text": [
      "Fetched 784 total friends ids for 16344329\n",
      "Fetched 5000 total followers ids for 16344329\n"
     ]
    },
    {
     "name": "stdout",
     "output_type": "stream",
     "text": [
      "Got followers for 16344329:[2228878592, 14645160, 23494080, 14298769, 892275857779118080]\n",
      "[2228878592, 14645160, 23494080, 14298769, 892275857779118080]\n",
      "71\n",
      "72\n",
      "73\n"
     ]
    },
    {
     "name": "stderr",
     "output_type": "stream",
     "text": [
      "Fetched 2716 total friends ids for 214337395\n",
      "Fetched 5000 total followers ids for 214337395\n"
     ]
    },
    {
     "name": "stdout",
     "output_type": "stream",
     "text": [
      "Got followers for 214337395:[14989516, 1298358020339048449, 22124289, 2693401014, 124040470]\n",
      "[14989516, 1298358020339048449, 22124289, 2693401014, 124040470]\n",
      "74\n",
      "75\n",
      "76\n",
      "77\n",
      "78\n"
     ]
    },
    {
     "name": "stderr",
     "output_type": "stream",
     "text": [
      "Fetched 5000 total friends ids for 18512945\n",
      "Fetched 5000 total followers ids for 18512945\n"
     ]
    },
    {
     "name": "stdout",
     "output_type": "stream",
     "text": [
      "Got followers for 18512945:[141664648, 14645160, 286773713, 23494080, 494588158]\n",
      "[141664648, 14645160, 286773713, 23494080, 494588158]\n",
      "79\n",
      "80\n"
     ]
    },
    {
     "name": "stderr",
     "output_type": "stream",
     "text": [
      "Fetched 1345 total friends ids for 21687766\n",
      "Fetched 5000 total followers ids for 21687766\n"
     ]
    },
    {
     "name": "stdout",
     "output_type": "stream",
     "text": [
      "Got followers for 21687766:[14645160, 2729061, 145741832, 21212087, 633980404]\n",
      "[14645160, 2729061, 145741832, 21212087, 633980404]\n",
      "81\n",
      "82\n",
      "83\n",
      "84\n"
     ]
    },
    {
     "name": "stderr",
     "output_type": "stream",
     "text": [
      "Encountered 401 Error (Not Authorized)\n",
      "Fetched 0 total friends ids for 159869411\n",
      "Encountered 401 Error (Not Authorized)\n",
      "Fetched 0 total followers ids for 159869411\n"
     ]
    },
    {
     "name": "stdout",
     "output_type": "stream",
     "text": [
      "159869411is protected\n"
     ]
    },
    {
     "name": "stderr",
     "output_type": "stream",
     "text": [
      "Encountered 401 Error (Not Authorized)\n",
      "Fetched 0 total friends ids for 836531888\n",
      "Encountered 401 Error (Not Authorized)\n",
      "Fetched 0 total followers ids for 836531888\n"
     ]
    },
    {
     "name": "stdout",
     "output_type": "stream",
     "text": [
      "836531888is protected\n"
     ]
    },
    {
     "name": "stderr",
     "output_type": "stream",
     "text": [
      "Fetched 408 total friends ids for 1256377525\n",
      "Fetched 1655 total followers ids for 1256377525\n"
     ]
    },
    {
     "name": "stdout",
     "output_type": "stream",
     "text": [
      "Got followers for 1256377525:[37599351, 87403396, 171337448, 76966092, 37836873]\n",
      "[37599351, 87403396, 171337448, 76966092, 37836873]\n",
      "85\n"
     ]
    },
    {
     "name": "stderr",
     "output_type": "stream",
     "text": [
      "Fetched 2351 total friends ids for 1617549211\n",
      "Fetched 891 total followers ids for 1617549211\n"
     ]
    },
    {
     "name": "stdout",
     "output_type": "stream",
     "text": [
      "Got followers for 1617549211:[37599351, 17881816, 76966092, 19977431, 3312173903]\n",
      "[37599351, 17881816, 76966092, 19977431, 3312173903]\n",
      "86\n",
      "87\n"
     ]
    },
    {
     "name": "stderr",
     "output_type": "stream",
     "text": [
      "Fetched 1122 total friends ids for 2837608628\n",
      "Fetched 791 total followers ids for 2837608628\n"
     ]
    },
    {
     "name": "stdout",
     "output_type": "stream",
     "text": [
      "Got followers for 2837608628:[38802447, 76966092, 1406619086, 25458378, 3078942992]\n",
      "[38802447, 76966092, 1406619086, 25458378, 3078942992]\n",
      "88\n",
      "89\n",
      "90\n",
      "91\n"
     ]
    },
    {
     "name": "stderr",
     "output_type": "stream",
     "text": [
      "Fetched 2590 total friends ids for 26637348\n",
      "Fetched 5000 total followers ids for 26637348\n",
      "Encountered 401 Error (Not Authorized)\n",
      "Fetched 0 total friends ids for 422377883\n"
     ]
    },
    {
     "name": "stdout",
     "output_type": "stream",
     "text": [
      "26637348is protected\n"
     ]
    },
    {
     "name": "stderr",
     "output_type": "stream",
     "text": [
      "Encountered 401 Error (Not Authorized)\n",
      "Fetched 0 total followers ids for 422377883\n",
      "Encountered 401 Error (Not Authorized)\n",
      "Fetched 0 total friends ids for 142512127\n"
     ]
    },
    {
     "name": "stdout",
     "output_type": "stream",
     "text": [
      "422377883is protected\n"
     ]
    },
    {
     "name": "stderr",
     "output_type": "stream",
     "text": [
      "Encountered 401 Error (Not Authorized)\n",
      "Fetched 0 total followers ids for 142512127\n"
     ]
    },
    {
     "name": "stdout",
     "output_type": "stream",
     "text": [
      "142512127is protected\n"
     ]
    },
    {
     "name": "stderr",
     "output_type": "stream",
     "text": [
      "Fetched 3227 total friends ids for 2250233750\n",
      "Fetched 926 total followers ids for 2250233750\n",
      "Encountered 429 Error (Rate Limit Exceeded)\n",
      "Retrying in 15 minutes...ZzZ...\n"
     ]
    },
    {
     "name": "stdout",
     "output_type": "stream",
     "text": [
      "Got followers for 2250233750:[151198065, 3078942992, 5514192, 20132655, 216998174]\n",
      "[151198065, 3078942992, 5514192, 20132655, 216998174]\n",
      "92\n",
      "93\n",
      "94\n"
     ]
    },
    {
     "name": "stderr",
     "output_type": "stream",
     "text": [
      "...ZzZ...Awake now and trying again.\n",
      "Fetched 1559 total friends ids for 419107960\n",
      "Fetched 5000 total followers ids for 419107960\n"
     ]
    },
    {
     "name": "stdout",
     "output_type": "stream",
     "text": [
      "419107960is protected\n"
     ]
    },
    {
     "name": "stderr",
     "output_type": "stream",
     "text": [
      "Fetched 5000 total friends ids for 89014429\n",
      "Fetched 5000 total followers ids for 89014429\n"
     ]
    },
    {
     "name": "stdout",
     "output_type": "stream",
     "text": [
      "Got followers for 89014429:[1355585256, 925102599505715200, 38559894, 3030757183]\n",
      "[1355585256, 925102599505715200, 38559894, 3030757183]\n",
      "95\n",
      "96\n",
      "97\n",
      "98\n"
     ]
    },
    {
     "name": "stderr",
     "output_type": "stream",
     "text": [
      "Fetched 4468 total friends ids for 3840\n",
      "Fetched 5000 total followers ids for 3840\n"
     ]
    },
    {
     "name": "stdout",
     "output_type": "stream",
     "text": [
      "Got followers for 3840:[52529896, 606412878, 2281325286, 40779444, 872423437]\n",
      "[52529896, 606412878, 2281325286, 40779444, 872423437]\n",
      "99\n",
      "100\n",
      "101\n",
      "102\n"
     ]
    },
    {
     "name": "stderr",
     "output_type": "stream",
     "text": [
      "Fetched 5000 total friends ids for 2730745332\n",
      "Fetched 5000 total followers ids for 2730745332\n"
     ]
    },
    {
     "name": "stdout",
     "output_type": "stream",
     "text": [
      "Number of Nodes = 102\n",
      "Number of Edges = 101\n",
      "Node list = [165035772, 17881816, 1933042237, 14645160, 76966092, 5514192, 606412878, 32338228, 3403573407, 23139997, 199565541, 102171978, 897506675418165248, 20819690, 553172586, 1009459519846473728, 42345999, 16344329, 214337395, 18512945, 21687766, 159869411, 836531888, 1256377525, 1617549211, 2837608628, 26637348, 422377883, 142512127, 2250233750, 419107960, 89014429, 3840, 2730745332, 57893062, 57982473, 96082963, 66306024, 18500852, 24929621, 141664648, 21360280, 171337448, 872695783, 19569136, 22018221, 200932969, 54649261, 149103331, 153492935, 17093617, 15808765, 63796828, 17525171, 87403396, 20756169, 20882981, 1854401, 65563900, 37599351, 42070873, 82329216, 1689338184, 75051887, 892275857779118080, 16529873, 168778996, 153252061, 15433452, 20641934, 2228878592, 23494080, 14298769, 14989516, 1298358020339048449, 22124289, 2693401014, 124040470, 286773713, 494588158, 2729061, 145741832, 21212087, 633980404, 37836873, 19977431, 3312173903, 38802447, 1406619086, 25458378, 3078942992, 151198065, 20132655, 216998174, 1355585256, 925102599505715200, 38559894, 3030757183, 52529896, 2281325286, 40779444, 872423437]\n",
      "Edge list = [(165035772, 17881816), (165035772, 1933042237), (165035772, 14645160), (165035772, 76966092), (165035772, 5514192), (17881816, 606412878), (17881816, 32338228), (17881816, 3403573407), (17881816, 23139997), (17881816, 199565541), (1933042237, 102171978), (1933042237, 897506675418165248), (1933042237, 20819690), (1933042237, 553172586), (1933042237, 1009459519846473728), (14645160, 42345999), (14645160, 16344329), (14645160, 214337395), (14645160, 18512945), (14645160, 21687766), (76966092, 159869411), (76966092, 836531888), (76966092, 1256377525), (76966092, 1617549211), (76966092, 2837608628), (5514192, 26637348), (5514192, 422377883), (5514192, 142512127), (5514192, 2250233750), (606412878, 419107960), (606412878, 89014429), (606412878, 3840), (606412878, 2730745332), (606412878, 57893062), (32338228, 57982473), (32338228, 96082963), (32338228, 66306024), (32338228, 18500852), (3403573407, 24929621), (3403573407, 141664648), (3403573407, 21360280), (23139997, 171337448), (23139997, 872695783), (23139997, 19569136), (23139997, 22018221), (199565541, 200932969), (199565541, 54649261), (199565541, 149103331), (199565541, 153492935), (102171978, 17093617), (102171978, 15808765), (102171978, 63796828), (102171978, 17525171), (102171978, 87403396), (897506675418165248, 20756169), (897506675418165248, 20882981), (897506675418165248, 1854401), (897506675418165248, 65563900), (20819690, 37599351), (553172586, 42070873), (553172586, 82329216), (553172586, 1689338184), (1009459519846473728, 75051887), (1009459519846473728, 892275857779118080), (1009459519846473728, 16529873), (42345999, 168778996), (42345999, 153252061), (42345999, 15433452), (42345999, 20641934), (16344329, 2228878592), (16344329, 23494080), (16344329, 14298769), (214337395, 14989516), (214337395, 1298358020339048449), (214337395, 22124289), (214337395, 2693401014), (214337395, 124040470), (18512945, 286773713), (18512945, 494588158), (21687766, 2729061), (21687766, 145741832), (21687766, 21212087), (21687766, 633980404), (1256377525, 37836873), (1617549211, 19977431), (1617549211, 3312173903), (2837608628, 38802447), (2837608628, 1406619086), (2837608628, 25458378), (2837608628, 3078942992), (2250233750, 151198065), (2250233750, 20132655), (2250233750, 216998174), (89014429, 1355585256), (89014429, 925102599505715200), (89014429, 38559894), (89014429, 3030757183), (3840, 52529896), (3840, 2281325286), (3840, 40779444), (3840, 872423437)]\n"
     ]
    },
    {
     "data": {
      "image/png": "[encoded data removed]",
      "text/plain": [
       "<Figure size 432x288 with 1 Axes>"
      ]
     },
     "metadata": {},
     "output_type": "display_data"
    },
    {
     "name": "stdout",
     "output_type": "stream",
     "text": [
      "Diameter of the network: 7\n",
      "Average distance of the network: 4.878858474082702\n"
     ]
    }
   ],
   "source": [
    "import networkx as nx\n",
    "G = nx.Graph() # create a graph\n",
    "response = make_twitter_request(popular_reciprocal_friends, twitter_api = twitter_api, user_id = user_id)\n",
    "ids = [user_id]\n",
    "next_queue = response\n",
    "print(\"Got Followers for {0}:{1}\".format(user_screen_name, next_queue))\n",
    "ids += next_queue\n",
    "\n",
    "G.add_nodes_from(ids)\n",
    "for i in next_queue:\n",
    "    G.add_edge(ids[0],i)\n",
    "\n",
    "depth = 1\n",
    "max_depth = 4\n",
    "\n",
    "while depth < max_depth:\n",
    "    if G.number_of_nodes() > 100:\n",
    "        break\n",
    "    depth += 1\n",
    "    (queue, next_queue) = (next_queue, [])\n",
    "    for id in queue:\n",
    "        response = make_twitter_request(popular_reciprocal_friends, twitter_api = twitter_api, user_id = id)\n",
    "        if G.number_of_nodes() > 100:\n",
    "            break \n",
    "        elif response:\n",
    "            print(\"Got followers for {0}:{1}\".format(id, response))\n",
    "            print(response)\n",
    "            for i in response:\n",
    "                if (i not in next_queue and i not in ids):\n",
    "                    next_queue.append(i)\n",
    "                    G.add_node(i)\n",
    "                    G.add_edge(id, i)\n",
    "                    print(G.number_of_nodes())\n",
    "        else:\n",
    "            print(str(id) + 'is protected')\n",
    "    ids += next_queue\n",
    "    \n",
    "\n",
    "print(\"Number of Nodes = {0}\".format(G.number_of_nodes()))\n",
    "print(\"Number of Edges = {0}\".format(G.number_of_edges()))\n",
    "print(\"Node list = {0}\".format(G.nodes()))\n",
    "print(\"Edge list = {0}\".format(G.edges()))\n",
    "\n",
    "import matplotlib.pyplot as plt\n",
    "nx.draw(G,with_labels = True)\n",
    "plt.savefig(\"mygraph.png\")\n",
    "plt.show()\n",
    "print(\"Diameter of the network:\", nx.diameter(G))\n",
    "print(\"Average distance of the network:\", nx.average_shortest_path_length(G))"
   ]
  },
  {
   "cell_type": "code",
   "execution_count": null,
   "metadata": {},
   "outputs": [],
   "source": []
  }
 ],
 "metadata": {
  "kernelspec": {
   "display_name": "Python 3",
   "language": "python",
   "name": "python3"
  },
  "language_info": {
   "codemirror_mode": {
    "name": "ipython",
    "version": 3
   },
   "file_extension": ".py",
   "mimetype": "text/x-python",
   "name": "python",
   "nbconvert_exporter": "python",
   "pygments_lexer": "ipython3",
   "version": "3.8.5"
  }
 },
 "nbformat": 4,
 "nbformat_minor": 4
}
